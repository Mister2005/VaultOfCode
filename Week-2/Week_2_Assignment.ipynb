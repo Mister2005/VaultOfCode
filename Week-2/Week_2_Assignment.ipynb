{
 "cells": [
  {
   "cell_type": "markdown",
   "metadata": {},
   "source": [
    "# Week 2 Assignment of Varun Gupta"
   ]
  },
  {
   "cell_type": "markdown",
   "metadata": {},
   "source": [
    "# Q-1 Word frequency counter"
   ]
  },
  {
   "cell_type": "code",
   "execution_count": 1,
   "metadata": {},
   "outputs": [
    {
     "name": "stdout",
     "output_type": "stream",
     "text": [
      "Frequency of Apple is: 1\n",
      "Frequency of Mango is: 3\n",
      "Frequency of Orange is: 1\n",
      "Frequency of Banana is: 2\n"
     ]
    }
   ],
   "source": [
    "def count_word_frequencies(text):\n",
    "    word_list = text.split()\n",
    "    word_freq = {}\n",
    "    for word in word_list:\n",
    "        word_freq[word] = word_freq.get(word, 0) + 1\n",
    "    return word_freq\n",
    "\n",
    "input_text = \"Apple Mango Orange Mango Banana Banana Mango\"\n",
    "frequencies = count_word_frequencies(input_text)\n",
    "for word, freq in frequencies.items():\n",
    "    print(f\"Frequency of {word} is: {freq}\")"
   ]
  },
  {
   "cell_type": "markdown",
   "metadata": {},
   "source": [
    "# Q-2 Palindrome Checker"
   ]
  },
  {
   "cell_type": "code",
   "execution_count": 2,
   "metadata": {},
   "outputs": [
    {
     "name": "stdout",
     "output_type": "stream",
     "text": [
      "Yes, madam is a palindrome.\n"
     ]
    }
   ],
   "source": [
    "def palindrome(word):\n",
    "    reversed_word = ''.join(reversed(word))\n",
    "    return word == reversed_word\n",
    "\n",
    "user_word = input(\"Enter a Word: \")\n",
    "if palindrome(user_word):\n",
    "    print(f\"Yes, {user_word} is a palindrome.\")\n",
    "else:\n",
    "    print(f\"No, {user_word} is not a palindrome.\")"
   ]
  },
  {
   "cell_type": "markdown",
   "metadata": {},
   "source": [
    "# Q-3 List Manipulation"
   ]
  },
  {
   "cell_type": "code",
   "execution_count": 3,
   "metadata": {},
   "outputs": [
    {
     "name": "stdout",
     "output_type": "stream",
     "text": [
      "1\n",
      "4\n",
      "9\n",
      "16\n",
      "25\n",
      "36\n",
      "49\n",
      "64\n",
      "81\n",
      "100\n",
      "400\n",
      "900\n",
      "1600\n",
      "2500\n",
      "3600\n",
      "4900\n",
      "6400\n",
      "8100\n",
      "10000\n"
     ]
    }
   ],
   "source": [
    "List_1 = [1,2,3,4,5,6,7,8,9,10,20,30,40,50,60,70,80,90,100]\n",
    "\n",
    "for i in range (0,len(List_1)):\n",
    "    print(List_1[i]*List_1[i])"
   ]
  }
 ],
 "metadata": {
  "kernelspec": {
   "display_name": "Python 3",
   "language": "python",
   "name": "python3"
  },
  "language_info": {
   "codemirror_mode": {
    "name": "ipython",
    "version": 3
   },
   "file_extension": ".py",
   "mimetype": "text/x-python",
   "name": "python",
   "nbconvert_exporter": "python",
   "pygments_lexer": "ipython3",
   "version": "3.12.3"
  }
 },
 "nbformat": 4,
 "nbformat_minor": 2
}
