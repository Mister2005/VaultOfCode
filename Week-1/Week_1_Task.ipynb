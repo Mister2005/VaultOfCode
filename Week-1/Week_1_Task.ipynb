{
 "cells": [
  {
   "cell_type": "markdown",
   "metadata": {},
   "source": [
    "# Week-1 Task of Varun Gupta"
   ]
  },
  {
   "cell_type": "markdown",
   "metadata": {},
   "source": [
    "# Code Snippet 1"
   ]
  },
  {
   "cell_type": "code",
   "execution_count": 1,
   "metadata": {},
   "outputs": [
    {
     "name": "stdout",
     "output_type": "stream",
     "text": [
      "5\n"
     ]
    }
   ],
   "source": [
    "# The error :  NameError \n",
    "\n",
    "# Write corrected code  \n",
    "number_of_apples = 5\n",
    "print(number_of_apples) #Correction in the name of variable\n",
    "\n",
    "# Explain the error : The name of the variable to print was entered incorrectly in the brackets the s was missing."
   ]
  },
  {
   "cell_type": "markdown",
   "metadata": {},
   "source": [
    "# Code Snippet 2"
   ]
  },
  {
   "cell_type": "code",
   "execution_count": 2,
   "metadata": {},
   "outputs": [
    {
     "name": "stdout",
     "output_type": "stream",
     "text": [
      "cherry\n"
     ]
    }
   ],
   "source": [
    "# The error : IndexError\n",
    "\n",
    "# Write corrected code\n",
    "fruits = [\"apple\", \"banana\", \"cherry\"]\n",
    "print(fruits[2])\n",
    "\n",
    "# Explain the error : For accessing the third element we use index 2 as indexing starts from 0."
   ]
  },
  {
   "cell_type": "markdown",
   "metadata": {},
   "source": [
    "# Debugging Exercise 3"
   ]
  },
  {
   "cell_type": "code",
   "execution_count": 3,
   "metadata": {},
   "outputs": [
    {
     "name": "stdout",
     "output_type": "stream",
     "text": [
      "The average is: 3.5\n"
     ]
    }
   ],
   "source": [
    "# The error : TypeError\n",
    "\n",
    "# Write corrected code\n",
    "def find_average(numbers):\n",
    "    sum = 0\n",
    "    for number in numbers:\n",
    "        sum += number\n",
    "    average = sum/len(numbers)\n",
    "    return average\n",
    "\n",
    "numbers = [1,2,3,4,5,6]\n",
    "average = find_average(numbers)\n",
    "print(f\"The average is: {average}\")\n",
    "\n",
    "# Explain the error : The valuee in numbers is of integer type but 6 was of string type due to which error occurred so corrected it by changing it to integer"
   ]
  },
  {
   "cell_type": "markdown",
   "metadata": {},
   "source": [
    "# Exercise 4"
   ]
  },
  {
   "cell_type": "code",
   "execution_count": 4,
   "metadata": {},
   "outputs": [
    {
     "name": "stdout",
     "output_type": "stream",
     "text": [
      "{'Alice': [88, 92, 95], 'Bob': [70, 85], 'Charlie': [91]}\n"
     ]
    }
   ],
   "source": [
    "# The error : AttributeError\n",
    "\n",
    "# Write corrected code\n",
    "def update_record(records, name, score):\n",
    "    if name in records:\n",
    "        records[name].append(score)\n",
    "    else:\n",
    "        records[name] = [score]\n",
    "\n",
    "student_records = { \"Alice\" : [88, 92], \"Bob\": [70, 85]}\n",
    "update_record(student_records, \"Charlie\", 91)\n",
    "update_record(student_records, \"Alice\", 95)\n",
    "print(student_records)\n",
    "\n",
    "# Explain the error : The keys and values in a dictionary is of list type so [] brackets were added to initialize it as list"
   ]
  }
 ],
 "metadata": {
  "kernelspec": {
   "display_name": "Python 3",
   "language": "python",
   "name": "python3"
  },
  "language_info": {
   "codemirror_mode": {
    "name": "ipython",
    "version": 3
   },
   "file_extension": ".py",
   "mimetype": "text/x-python",
   "name": "python",
   "nbconvert_exporter": "python",
   "pygments_lexer": "ipython3",
   "version": "3.12.3"
  }
 },
 "nbformat": 4,
 "nbformat_minor": 2
}
